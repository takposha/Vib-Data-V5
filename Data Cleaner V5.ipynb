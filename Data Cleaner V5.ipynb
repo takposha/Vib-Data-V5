{
 "cells": [
  {
   "cell_type": "code",
   "execution_count": 30,
   "metadata": {},
   "outputs": [],
   "source": [
    "import numpy as np\n",
    "import pandas as pd\n",
    "from shutil import copyfile\n",
    "\n",
    "dataframe = pd.read_csv(\"VibrationsV5.csv\", index_col=0)\n",
    "dataset = dataframe.values\n",
    "\n",
    "#print(dataframe.loc[:,['Sequences','Rec-Plot','Projection','Clean-Rec-Plot']])\n",
    "#np.shape(dataframe)\n",
    "#dataframe\n",
    "#print(dataframe['Sequences'].median())\n",
    "#np.shape(dataset)\n",
    "\n",
    "def sorter(dataframe, conversion, colName):\n",
    "    threshold = 1700\n",
    "    rows = np.shape(dataframe)[0]\n",
    "    #dataset = dataframe.values\n",
    "    #print(dataset)\n",
    "    count = [0,0]\n",
    "    for r in range(rows):\n",
    "        if r%5 == 0:\n",
    "            folderType = 'test'\n",
    "        else: folderType = 'train'\n",
    "        length = len('DatasetV5/')+len(conversion)+len('/')\n",
    "        src = dataframe.loc[('Data'+str(r)),colName]\n",
    "        filename = src[length:]\n",
    "        #print(filename)\n",
    "        print(dataframe.loc[('Data'+str(r)),'Sequences'])\n",
    "\n",
    "        if dataframe.loc[('Data'+str(r)),'Sequences'] >= threshold:\n",
    "            des = 'SplitV5/%s/%s/More/%s' % (conversion,folderType,filename)\n",
    "            count[1] += 1\n",
    "        else:\n",
    "            des = 'SplitV5/%s/%s/Less/%s' % (conversion,folderType,filename)\n",
    "            count[0] += 1\n",
    "            \n",
    "        copyfile(src, des)\n",
    "\n",
    "    return count"
   ]
  },
  {
   "cell_type": "code",
   "execution_count": 31,
   "metadata": {},
   "outputs": [],
   "source": [
    "conversion = ['recplot','projection','cleanrec']\n",
    "colName = ['Rec-Plot','Projection','Clean-Rec-Plot']\n",
    "for c in range(3): sorter(dataframe,conversion[c],colName[c])"
   ]
  },
  {
   "cell_type": "code",
   "execution_count": null,
   "metadata": {},
   "outputs": [],
   "source": []
  }
 ],
 "metadata": {
  "kernelspec": {
   "display_name": "Python 3",
   "language": "python",
   "name": "python3"
  },
  "language_info": {
   "codemirror_mode": {
    "name": "ipython",
    "version": 3
   },
   "file_extension": ".py",
   "mimetype": "text/x-python",
   "name": "python",
   "nbconvert_exporter": "python",
   "pygments_lexer": "ipython3",
   "version": "3.7.1"
  }
 },
 "nbformat": 4,
 "nbformat_minor": 2
}
