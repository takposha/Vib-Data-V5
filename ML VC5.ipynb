{
 "cells": [
  {
   "cell_type": "code",
   "execution_count": 2,
   "metadata": {},
   "outputs": [
    {
     "name": "stderr",
     "output_type": "stream",
     "text": [
      "Using TensorFlow backend.\n"
     ]
    },
    {
     "name": "stdout",
     "output_type": "stream",
     "text": [
      "Found 40000 images belonging to 2 classes.\n",
      "Found 10000 images belonging to 2 classes.\n"
     ]
    }
   ],
   "source": [
    "import keras\n",
    "from keras.models import Sequential\n",
    "from keras.layers import Conv2D\n",
    "from keras.layers import MaxPooling2D\n",
    "from keras.layers import Flatten\n",
    "from keras.layers import Dense\n",
    "from keras.layers import Dropout\n",
    "from keras.models import load_model\n",
    "from keras.preprocessing.image import ImageDataGenerator\n",
    "from keras.preprocessing import image\n",
    "import numpy as np\n",
    "import pandas as pd\n",
    "\n",
    "#train_datagen = ImageDataGenerator(rescale = 1./255,shear_range = 0.2,zoom_range = 0.2,horizontal_flip = True)\n",
    "train_datagen = ImageDataGenerator(rescale = 1./255)\n",
    "test_datagen = ImageDataGenerator(rescale = 1./255)\n",
    "training_set = train_datagen.flow_from_directory('SplitV5/cleanrec/train',target_size = (100, 100),color_mode='rgb', \\\n",
    "                                                 batch_size = 100,class_mode = 'binary')\n",
    "test_set = test_datagen.flow_from_directory('SplitV5/cleanrec/test',target_size = (100, 100),color_mode='rgb', \\\n",
    "                                            batch_size = 100,class_mode = 'binary')\n",
    "\n",
    "checkpoint = keras.callbacks.ModelCheckpoint('AWSWeightstempC5.h5', monitor='val_acc', verbose=1, \\\n",
    "                                             save_best_only=False, save_weights_only=False, mode='auto', period=1)\n",
    "\n",
    "def saveTo(acc):\n",
    "    folder = \"Models/cleanrec\"\n",
    "    modelName = 'AWSWeightsC5-'\n",
    "    ext = 'h5'\n",
    "    path = '%s/%s%s.%s' % (folder, modelName, acc, ext)\n",
    "    return path\n",
    "\n",
    "def predict(modelName = 'AWSWeightstempC5.h5'):\n",
    "    dataframe = pd.read_csv(\"TestVibsV5.csv\")\n",
    "\n",
    "    classifier = load_model(modelName)\n",
    "    #classifier = load_model('AWSWeightstempR5.h5')\n",
    "\n",
    "    rows = np.shape(dataframe)[0]\n",
    "    hits = [0,0]\n",
    "\n",
    "    for r in range(rows):\n",
    "        address = dataframe['Clean-Rec-Plot'][r]\n",
    "        label = dataframe['Sequences'][r]\n",
    "\n",
    "\n",
    "        test_image = image.load_img(address, target_size = (100, 100),color_mode='rgb')\n",
    "        test_image = image.img_to_array(test_image)\n",
    "        test_image = np.expand_dims(test_image, axis = 0)\n",
    "        result = classifier.predict(test_image)\n",
    "        pred = np.round(result[0][0])\n",
    "\n",
    "        tolerance = [1700, 1700]\n",
    "\n",
    "        if (label >= tolerance[1] and pred == 1) or (label <= tolerance[0] and pred == 0):\n",
    "            hits[0] += 1\n",
    "        elif (label >= tolerance[1] or label <= tolerance[0]): \n",
    "            hits[1] += 1\n",
    "\n",
    "    #print(hits)\n",
    "    acc = hits[0]*100/(hits[1]+hits[0])\n",
    "    print('Accuracy:', acc,'%')\n",
    "    return str(acc)\n",
    "\n",
    "def initialize():\n",
    "    classifier = Sequential()\n",
    "\n",
    "    classifier.add(Conv2D(32, (3, 3), input_shape = (100, 100, 3), activation = 'relu'))\n",
    "    classifier.add(MaxPooling2D(pool_size = (2, 2)))\n",
    "    classifier.add(Dropout(0.25))\n",
    "\n",
    "    classifier.add(Conv2D(32, (3, 3), activation = 'relu'))\n",
    "    classifier.add(MaxPooling2D(pool_size = (2, 2)))\n",
    "    classifier.add(Dropout(0.25))\n",
    "\n",
    "    #classifier.add(Conv2D(32, (3, 3), activation = 'relu'))\n",
    "    #classifier.add(MaxPooling2D(pool_size = (2, 2)))\n",
    "    #classifier.add(Dropout(0.25))\n",
    "\n",
    "    classifier.add(Flatten())\n",
    "    \n",
    "    #classifier.add(Dense(units = 400, activation = 'relu'))\n",
    "    classifier.add(Dense(units = 800, activation = 'relu'))\n",
    "    classifier.add(Dense(units = 800, activation = 'relu'))\n",
    "    classifier.add(Dense(units = 200, activation = 'relu'))\n",
    "    classifier.add(Dense(units = 100, activation = 'relu'))\n",
    "    classifier.add(Dense(units = 1, activation = 'sigmoid'))\n",
    "\n",
    "    classifier.compile(optimizer = 'adam', loss = 'binary_crossentropy', metrics = ['accuracy'])\n",
    "    \n",
    "    return classifier\n",
    "\n",
    "def runLoop(fresh = True, length = 10):\n",
    "    for i in range(length):\n",
    "        print('\\nLoop ',i+1,' of ',length)\n",
    "        if fresh == True and i == 0:\n",
    "            classifier = initialize()\n",
    "        else: \n",
    "            classifier = load_model('AWSWeightstempC5.h5')\n",
    "            \n",
    "        classifier.fit_generator(training_set,steps_per_epoch = 400,epochs = 1, \\\n",
    "                                 callbacks = [checkpoint], \\\n",
    "                                 validation_data = test_set,validation_steps = 200,initial_epoch=0)\n",
    "        classifier.save(saveTo(predict()))\n",
    "        keras.backend.clear_session()"
   ]
  },
  {
   "cell_type": "code",
   "execution_count": null,
   "metadata": {},
   "outputs": [
    {
     "name": "stdout",
     "output_type": "stream",
     "text": [
      "\n",
      "Loop  1  of  10\n",
      "Epoch 1/1\n",
      "304/400 [=====================>........] - ETA: 1:01 - loss: 0.5611 - acc: 0.7037"
     ]
    }
   ],
   "source": [
    "runLoop(True, 10)"
   ]
  },
  {
   "cell_type": "code",
   "execution_count": null,
   "metadata": {},
   "outputs": [],
   "source": [
    "from keras.utils import plot_model\n",
    "model = load_model('Completed/AWSWeightsR5-82.1.h5')\n",
    "plot_model(model, to_file='R5-82.1.png', show_shapes = True)"
   ]
  },
  {
   "cell_type": "code",
   "execution_count": null,
   "metadata": {},
   "outputs": [],
   "source": []
  }
 ],
 "metadata": {
  "kernelspec": {
   "display_name": "Python 3",
   "language": "python",
   "name": "python3"
  },
  "language_info": {
   "codemirror_mode": {
    "name": "ipython",
    "version": 3
   },
   "file_extension": ".py",
   "mimetype": "text/x-python",
   "name": "python",
   "nbconvert_exporter": "python",
   "pygments_lexer": "ipython3",
   "version": "3.6.8"
  }
 },
 "nbformat": 4,
 "nbformat_minor": 2
}
